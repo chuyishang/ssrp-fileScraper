{
 "cells": [
  {
   "cell_type": "markdown",
   "id": "bd2cb6ef",
   "metadata": {},
   "source": [
    "# Directory Scraper for the SSRP\n",
    "This is a simple directory scraper for the SSRP created by Chuyi Shang which scrapes all the code files in a reproduction package and saves them as an uploadable CSV to the Assessment Stage of the SSRP."
   ]
  },
  {
   "cell_type": "code",
   "execution_count": 2,
   "id": "f5806f0e",
   "metadata": {},
   "outputs": [],
   "source": [
    "# Imports Basic Packages\n",
    "import pandas as pd\n",
    "import numpy as np\n",
    "import os\n",
    "import re\n",
    "from os import listdir\n",
    "from os.path import isfile, join"
   ]
  },
  {
   "cell_type": "code",
   "execution_count": 3,
   "id": "8a8ea870",
   "metadata": {},
   "outputs": [],
   "source": [
    "# Enter path to the folder containing the files\n",
    "mypath = \"/Users/chuyishang/Documents/dataverse_files\""
   ]
  },
  {
   "cell_type": "code",
   "execution_count": 4,
   "id": "fd8dc560",
   "metadata": {
    "scrolled": true
   },
   "outputs": [
    {
     "data": {
      "text/plain": [
       "['mrc_table5-1.csv',\n",
       " 'mrc_table6.dta',\n",
       " 'mrc_table7.dta',\n",
       " 'Codebook-MRC-Table-1.pdf',\n",
       " 'Codebook-MRC-Table-3.pdf',\n",
       " 'mrc_table5.dta',\n",
       " 'mrc_table4.dta',\n",
       " 'Codebook-MRC-Table-2.pdf',\n",
       " 'Codebook-MRC-Table-6.pdf',\n",
       " '.DS_Store',\n",
       " 'Codebook-MRC-Table-7.pdf',\n",
       " 'Codebook-MRC-Table-5.pdf',\n",
       " 'mrc_table3.dta',\n",
       " 'mrc_table2.dta',\n",
       " 'Codebook-MRC-Table-4.pdf',\n",
       " 'mrc_table15.csv',\n",
       " 'mrc_table9.csv',\n",
       " 'Codebook-MRC-Table-15.pdf',\n",
       " 'Codebook-MRC-Table-14.pdf',\n",
       " 'mrc_table8.csv',\n",
       " 'mrc_table14.csv',\n",
       " 'mrc_table13.csv',\n",
       " 'Codebook-MRC-Table-13.pdf',\n",
       " 'Codebook-MRC-Table-12.pdf',\n",
       " 'mrc_table12.csv',\n",
       " 'mrc_table10.csv',\n",
       " 'Codebook-MRC-Table-10.pdf',\n",
       " 'Codebook-MRC-Table-11.pdf',\n",
       " 'mrc_table11.csv',\n",
       " 'mrc_table1.csv',\n",
       " 'mrc_table1-2.dta',\n",
       " 'mrc_table3.csv',\n",
       " 'mrc_table2.csv',\n",
       " 'mrc_table6.csv',\n",
       " 'mrc_table7.csv',\n",
       " 'mrc_table4.csv',\n",
       " 'mrc_table13.dta',\n",
       " 'Codebook-MRC-Table-9.pdf',\n",
       " 'Codebook-MRC-Table-8.pdf',\n",
       " 'mrc_table12.dta',\n",
       " 'mrc_table10.dta',\n",
       " 'mrc_table11.dta',\n",
       " 'mrc_table15.dta',\n",
       " 'mrc_table9.dta',\n",
       " 'mrc_table8.dta',\n",
       " 'mrc_table14.dta']"
      ]
     },
     "execution_count": 4,
     "metadata": {},
     "output_type": "execute_result"
    }
   ],
   "source": [
    "# Lists the files in the directory\n",
    "onlyfiles = [f for f in listdir(mypath) if isfile(join(mypath, f))]"
   ]
  },
  {
   "cell_type": "code",
   "execution_count": 5,
   "id": "570f7a44",
   "metadata": {
    "scrolled": true
   },
   "outputs": [],
   "source": [
    "# Excludes pdf files\n",
    "newArr = []\n",
    "for file in onlyfiles:\n",
    "    match = re.match(\".+\\.pdf\", file)\n",
    "    if not match:\n",
    "        newArr.append(file)"
   ]
  },
  {
   "cell_type": "code",
   "execution_count": 6,
   "id": "c0ed86de",
   "metadata": {
    "scrolled": true
   },
   "outputs": [
    {
     "name": "stdout",
     "output_type": "stream",
     "text": [
      "31\n"
     ]
    }
   ],
   "source": [
    "# Creates the basic outline for the dataframe entry\n",
    "emptyArr = [np.nan]*len(newArr)\n",
    "print(len(emptyArr))\n",
    "data = {'file_name': newArr, \\\n",
    "        'location': emptyArr, \\\n",
    "        'inputs': emptyArr, \\\n",
    "        'outputs': emptyArr, \\\n",
    "        'description': emptyArr, \\\n",
    "        'primary_type': emptyArr} "
   ]
  },
  {
   "cell_type": "code",
   "execution_count": 7,
   "id": "ddf7976e",
   "metadata": {},
   "outputs": [],
   "source": [
    "DF = pd.DataFrame(data)"
   ]
  },
  {
   "cell_type": "code",
   "execution_count": 8,
   "id": "a4070923",
   "metadata": {},
   "outputs": [],
   "source": [
    "# Replace export_path to the path to the folder where you want to save the file\n",
    "# export_path = \"/Replace/this/with/the/path/to/the/export/directory\"\n",
    "# Replace exportFileName with your desired csv file name\n",
    "# exportFileName = \"YOURFILENAME.csv\"\n",
    "export_path = \"/Users/myUserName/Documents/\"\n",
    "# Replace exportFileName with your desired csv file name\n",
    "exportFileName = \"YOURFILENAME.csv\"\n"
   ]
  },
  {
   "cell_type": "code",
   "execution_count": 9,
   "id": "a0124401",
   "metadata": {},
   "outputs": [],
   "source": [
    "# File will now be saved in the export path as the file name\n",
    "DF.to_csv(f'{export_path}{exportFileName}', index = False)\n"
   ]
  }
 ],
 "metadata": {
  "kernelspec": {
   "display_name": "Python 3",
   "language": "python",
   "name": "python3"
  },
  "language_info": {
   "codemirror_mode": {
    "name": "ipython",
    "version": 3
   },
   "file_extension": ".py",
   "mimetype": "text/x-python",
   "name": "python",
   "nbconvert_exporter": "python",
   "pygments_lexer": "ipython3",
   "version": "3.9.6"
  }
 },
 "nbformat": 4,
 "nbformat_minor": 5
}
